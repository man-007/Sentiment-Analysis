{
  "nbformat": 4,
  "nbformat_minor": 0,
  "metadata": {
    "colab": {
      "name": "sentiment-analysis-with-Textblob.ipynb",
      "provenance": [],
      "mount_file_id": "1I2NQbRN43qwvyr-UBGQJxDmFpdnw26cc",
      "authorship_tag": "ABX9TyM+oxG1PkWvink/8jTsHQUz",
      "include_colab_link": true
    },
    "kernelspec": {
      "name": "python3",
      "display_name": "Python 3"
    },
    "language_info": {
      "name": "python"
    }
  },
  "cells": [
    {
      "cell_type": "markdown",
      "metadata": {
        "id": "view-in-github",
        "colab_type": "text"
      },
      "source": [
        "<a href=\"https://colab.research.google.com/github/man-007/Sentiment-Analysis/blob/main/sentiment-analysis-with-Textblob.ipynb\" target=\"_parent\"><img src=\"https://colab.research.google.com/assets/colab-badge.svg\" alt=\"Open In Colab\"/></a>"
      ]
    },
    {
      "cell_type": "markdown",
      "metadata": {
        "id": "lot8nJ5ngLJJ"
      },
      "source": [
        "# **Introduction**\n",
        "\n",
        "TextBlob is a Python (2 and 3) library for processing textual data. It provides a simple API for diving into common natural language processing (NLP) tasks such as part-of-speech tagging, noun phrase extraction, sentiment analysis, classification, translation, and more.\n",
        "\n"
      ]
    },
    {
      "cell_type": "markdown",
      "metadata": {
        "id": "XmjdX8GdDHk0"
      },
      "source": [
        "# Imports"
      ]
    },
    {
      "cell_type": "code",
      "metadata": {
        "id": "MlYh1ZXHLVgk"
      },
      "source": [
        "# The main package to help us with our text analysis\n",
        "from textblob import TextBlob\n",
        "\n",
        "# For reading input files in CSV format\n",
        "import csv\n",
        "\n",
        "# For doing cool regular expressions\n",
        "import re\n",
        "\n",
        "# For sorting dictionaries\n",
        "import operator\n",
        "import pandas as pd\n",
        "\n",
        "\n",
        "# For plotting results\n",
        "import numpy as np\n",
        "import matplotlib.mlab as mlab\n",
        "import matplotlib.pyplot as plt\n",
        "\n",
        "# Intialize an empty list to hold all of our tweets\n",
        "tweets = []\n",
        "\n"
      ],
      "execution_count": 47,
      "outputs": []
    },
    {
      "cell_type": "code",
      "metadata": {
        "id": "cWgj3XDyMTD1"
      },
      "source": [
        "def strip_non_ascii(string):\n",
        "    ''' Returns the string without non ASCII characters'''\n",
        "    stripped = (c for c in string if 0 < ord(c) < 127)\n",
        "    return ''.join(stripped)"
      ],
      "execution_count": 48,
      "outputs": []
    },
    {
      "cell_type": "markdown",
      "metadata": {
        "id": "bZkDCoDJDOuW"
      },
      "source": [
        "# Data Processing"
      ]
    },
    {
      "cell_type": "markdown",
      "metadata": {
        "id": "NO5JZ7npEN4f"
      },
      "source": [
        "Here we have took some data from twitter to train our model.\n",
        "\n",
        "Context: It contains 1,600,000 tweets extracted using the twitter api . The tweets have been annotated [0,4]. \n"
      ]
    },
    {
      "cell_type": "code",
      "metadata": {
        "id": "3kmAkkNWMeZp"
      },
      "source": [
        "df = pd.read_csv(\"/content/drive/MyDrive/training.1600000.processed.noemoticon.csv\",encoding='ISO-8859-1', \n",
        "                 names=['target', 'id', 'date', 'flag', 'user', 'text']\n",
        "                )"
      ],
      "execution_count": 49,
      "outputs": []
    },
    {
      "cell_type": "code",
      "metadata": {
        "colab": {
          "base_uri": "https://localhost:8080/",
          "height": 204
        },
        "id": "WG2YVnX2MmzD",
        "outputId": "2e21006f-bba3-428a-aa76-4107e6f6a7f0"
      },
      "source": [
        "df.head()"
      ],
      "execution_count": 50,
      "outputs": [
        {
          "output_type": "execute_result",
          "data": {
            "text/html": [
              "<div>\n",
              "<style scoped>\n",
              "    .dataframe tbody tr th:only-of-type {\n",
              "        vertical-align: middle;\n",
              "    }\n",
              "\n",
              "    .dataframe tbody tr th {\n",
              "        vertical-align: top;\n",
              "    }\n",
              "\n",
              "    .dataframe thead th {\n",
              "        text-align: right;\n",
              "    }\n",
              "</style>\n",
              "<table border=\"1\" class=\"dataframe\">\n",
              "  <thead>\n",
              "    <tr style=\"text-align: right;\">\n",
              "      <th></th>\n",
              "      <th>target</th>\n",
              "      <th>id</th>\n",
              "      <th>date</th>\n",
              "      <th>flag</th>\n",
              "      <th>user</th>\n",
              "      <th>text</th>\n",
              "    </tr>\n",
              "  </thead>\n",
              "  <tbody>\n",
              "    <tr>\n",
              "      <th>0</th>\n",
              "      <td>0</td>\n",
              "      <td>1467810369</td>\n",
              "      <td>Mon Apr 06 22:19:45 PDT 2009</td>\n",
              "      <td>NO_QUERY</td>\n",
              "      <td>_TheSpecialOne_</td>\n",
              "      <td>@switchfoot http://twitpic.com/2y1zl - Awww, t...</td>\n",
              "    </tr>\n",
              "    <tr>\n",
              "      <th>1</th>\n",
              "      <td>0</td>\n",
              "      <td>1467810672</td>\n",
              "      <td>Mon Apr 06 22:19:49 PDT 2009</td>\n",
              "      <td>NO_QUERY</td>\n",
              "      <td>scotthamilton</td>\n",
              "      <td>is upset that he can't update his Facebook by ...</td>\n",
              "    </tr>\n",
              "    <tr>\n",
              "      <th>2</th>\n",
              "      <td>0</td>\n",
              "      <td>1467810917</td>\n",
              "      <td>Mon Apr 06 22:19:53 PDT 2009</td>\n",
              "      <td>NO_QUERY</td>\n",
              "      <td>mattycus</td>\n",
              "      <td>@Kenichan I dived many times for the ball. Man...</td>\n",
              "    </tr>\n",
              "    <tr>\n",
              "      <th>3</th>\n",
              "      <td>0</td>\n",
              "      <td>1467811184</td>\n",
              "      <td>Mon Apr 06 22:19:57 PDT 2009</td>\n",
              "      <td>NO_QUERY</td>\n",
              "      <td>ElleCTF</td>\n",
              "      <td>my whole body feels itchy and like its on fire</td>\n",
              "    </tr>\n",
              "    <tr>\n",
              "      <th>4</th>\n",
              "      <td>0</td>\n",
              "      <td>1467811193</td>\n",
              "      <td>Mon Apr 06 22:19:57 PDT 2009</td>\n",
              "      <td>NO_QUERY</td>\n",
              "      <td>Karoli</td>\n",
              "      <td>@nationwideclass no, it's not behaving at all....</td>\n",
              "    </tr>\n",
              "  </tbody>\n",
              "</table>\n",
              "</div>"
            ],
            "text/plain": [
              "   target  ...                                               text\n",
              "0       0  ...  @switchfoot http://twitpic.com/2y1zl - Awww, t...\n",
              "1       0  ...  is upset that he can't update his Facebook by ...\n",
              "2       0  ...  @Kenichan I dived many times for the ball. Man...\n",
              "3       0  ...    my whole body feels itchy and like its on fire \n",
              "4       0  ...  @nationwideclass no, it's not behaving at all....\n",
              "\n",
              "[5 rows x 6 columns]"
            ]
          },
          "metadata": {
            "tags": []
          },
          "execution_count": 50
        }
      ]
    },
    {
      "cell_type": "markdown",
      "metadata": {
        "id": "_z_gnYSvFvsF"
      },
      "source": [
        "Cleaning of data."
      ]
    },
    {
      "cell_type": "code",
      "metadata": {
        "id": "X3xlXcdrM69r"
      },
      "source": [
        "import re\n",
        "import string\n",
        "\n",
        "def text_clean(text):\n",
        "  text=text.lower()\n",
        "  text=re.sub('\\[.*?\\]','',text)\n",
        "  text=re.sub('[%s]'%re.escape(string.punctuation),'',text)\n",
        "  text=re.sub('\\w*\\d\\w*','',text)\n",
        "  text=re.sub('[''\"\"...]','',text)\n",
        "  text=re.sub('\\n','',text)\n",
        "  text=strip_non_ascii(text)\n",
        "  return text\n",
        "\n",
        "cleaned1 = lambda x:text_clean(x)\n"
      ],
      "execution_count": 51,
      "outputs": []
    },
    {
      "cell_type": "code",
      "metadata": {
        "id": "lpIgpBFbNMGk"
      },
      "source": [
        "df[\"cleaned_content\"]=pd.DataFrame(df.text.apply(cleaned1))"
      ],
      "execution_count": 52,
      "outputs": []
    },
    {
      "cell_type": "code",
      "metadata": {
        "colab": {
          "base_uri": "https://localhost:8080/",
          "height": 204
        },
        "id": "47DWo8xpO0KJ",
        "outputId": "9e46b605-6c56-4290-de1a-ffc34a75aeaf"
      },
      "source": [
        "df.head()"
      ],
      "execution_count": 53,
      "outputs": [
        {
          "output_type": "execute_result",
          "data": {
            "text/html": [
              "<div>\n",
              "<style scoped>\n",
              "    .dataframe tbody tr th:only-of-type {\n",
              "        vertical-align: middle;\n",
              "    }\n",
              "\n",
              "    .dataframe tbody tr th {\n",
              "        vertical-align: top;\n",
              "    }\n",
              "\n",
              "    .dataframe thead th {\n",
              "        text-align: right;\n",
              "    }\n",
              "</style>\n",
              "<table border=\"1\" class=\"dataframe\">\n",
              "  <thead>\n",
              "    <tr style=\"text-align: right;\">\n",
              "      <th></th>\n",
              "      <th>target</th>\n",
              "      <th>id</th>\n",
              "      <th>date</th>\n",
              "      <th>flag</th>\n",
              "      <th>user</th>\n",
              "      <th>text</th>\n",
              "      <th>cleaned_content</th>\n",
              "    </tr>\n",
              "  </thead>\n",
              "  <tbody>\n",
              "    <tr>\n",
              "      <th>0</th>\n",
              "      <td>0</td>\n",
              "      <td>1467810369</td>\n",
              "      <td>Mon Apr 06 22:19:45 PDT 2009</td>\n",
              "      <td>NO_QUERY</td>\n",
              "      <td>_TheSpecialOne_</td>\n",
              "      <td>@switchfoot http://twitpic.com/2y1zl - Awww, t...</td>\n",
              "      <td>switchfoot   awww thats a bummer  you shoulda ...</td>\n",
              "    </tr>\n",
              "    <tr>\n",
              "      <th>1</th>\n",
              "      <td>0</td>\n",
              "      <td>1467810672</td>\n",
              "      <td>Mon Apr 06 22:19:49 PDT 2009</td>\n",
              "      <td>NO_QUERY</td>\n",
              "      <td>scotthamilton</td>\n",
              "      <td>is upset that he can't update his Facebook by ...</td>\n",
              "      <td>is upset that he cant update his facebook by t...</td>\n",
              "    </tr>\n",
              "    <tr>\n",
              "      <th>2</th>\n",
              "      <td>0</td>\n",
              "      <td>1467810917</td>\n",
              "      <td>Mon Apr 06 22:19:53 PDT 2009</td>\n",
              "      <td>NO_QUERY</td>\n",
              "      <td>mattycus</td>\n",
              "      <td>@Kenichan I dived many times for the ball. Man...</td>\n",
              "      <td>kenichan i dived many times for the ball manag...</td>\n",
              "    </tr>\n",
              "    <tr>\n",
              "      <th>3</th>\n",
              "      <td>0</td>\n",
              "      <td>1467811184</td>\n",
              "      <td>Mon Apr 06 22:19:57 PDT 2009</td>\n",
              "      <td>NO_QUERY</td>\n",
              "      <td>ElleCTF</td>\n",
              "      <td>my whole body feels itchy and like its on fire</td>\n",
              "      <td>my whole body feels itchy and like its on fire</td>\n",
              "    </tr>\n",
              "    <tr>\n",
              "      <th>4</th>\n",
              "      <td>0</td>\n",
              "      <td>1467811193</td>\n",
              "      <td>Mon Apr 06 22:19:57 PDT 2009</td>\n",
              "      <td>NO_QUERY</td>\n",
              "      <td>Karoli</td>\n",
              "      <td>@nationwideclass no, it's not behaving at all....</td>\n",
              "      <td>nationwideclass no its not behaving at all im ...</td>\n",
              "    </tr>\n",
              "  </tbody>\n",
              "</table>\n",
              "</div>"
            ],
            "text/plain": [
              "   target  ...                                    cleaned_content\n",
              "0       0  ...  switchfoot   awww thats a bummer  you shoulda ...\n",
              "1       0  ...  is upset that he cant update his facebook by t...\n",
              "2       0  ...  kenichan i dived many times for the ball manag...\n",
              "3       0  ...    my whole body feels itchy and like its on fire \n",
              "4       0  ...  nationwideclass no its not behaving at all im ...\n",
              "\n",
              "[5 rows x 7 columns]"
            ]
          },
          "metadata": {
            "tags": []
          },
          "execution_count": 53
        }
      ]
    },
    {
      "cell_type": "markdown",
      "metadata": {
        "id": "WpI9F7gTGEWv"
      },
      "source": [
        "Now we forms a new column named sentiments with 3 unique value.\n",
        "\n",
        "This column is filled with the help of TextBlob library.\n"
      ]
    },
    {
      "cell_type": "code",
      "metadata": {
        "id": "0dbbuqQ4PHIE"
      },
      "source": [
        "def to_sentiment(content):\n",
        "  textblob_object=TextBlob(content)\n",
        "\n",
        "  textblob_object_polarity = float(textblob_object.sentiment.polarity)\n",
        "  textblob_object_subjectivity = float(textblob_object.sentiment.subjectivity)\n",
        "\n",
        "  if textblob_object_polarity > 0.1:\n",
        "      return 'positive'\n",
        "  elif textblob_object_polarity < -0.1:\n",
        "      return 'negative'\n",
        "  else:\n",
        "      return 'neutral'\n",
        "\n",
        "df['sentiment'] = df.cleaned_content.apply(to_sentiment)"
      ],
      "execution_count": 54,
      "outputs": []
    },
    {
      "cell_type": "code",
      "metadata": {
        "colab": {
          "base_uri": "https://localhost:8080/",
          "height": 359
        },
        "id": "9ZlUrIOoRl--",
        "outputId": "24f90fb0-1066-4984-c2ba-a4e97c7ec7ee"
      },
      "source": [
        "df.head(10)"
      ],
      "execution_count": 55,
      "outputs": [
        {
          "output_type": "execute_result",
          "data": {
            "text/html": [
              "<div>\n",
              "<style scoped>\n",
              "    .dataframe tbody tr th:only-of-type {\n",
              "        vertical-align: middle;\n",
              "    }\n",
              "\n",
              "    .dataframe tbody tr th {\n",
              "        vertical-align: top;\n",
              "    }\n",
              "\n",
              "    .dataframe thead th {\n",
              "        text-align: right;\n",
              "    }\n",
              "</style>\n",
              "<table border=\"1\" class=\"dataframe\">\n",
              "  <thead>\n",
              "    <tr style=\"text-align: right;\">\n",
              "      <th></th>\n",
              "      <th>target</th>\n",
              "      <th>id</th>\n",
              "      <th>date</th>\n",
              "      <th>flag</th>\n",
              "      <th>user</th>\n",
              "      <th>text</th>\n",
              "      <th>cleaned_content</th>\n",
              "      <th>sentiment</th>\n",
              "    </tr>\n",
              "  </thead>\n",
              "  <tbody>\n",
              "    <tr>\n",
              "      <th>0</th>\n",
              "      <td>0</td>\n",
              "      <td>1467810369</td>\n",
              "      <td>Mon Apr 06 22:19:45 PDT 2009</td>\n",
              "      <td>NO_QUERY</td>\n",
              "      <td>_TheSpecialOne_</td>\n",
              "      <td>@switchfoot http://twitpic.com/2y1zl - Awww, t...</td>\n",
              "      <td>switchfoot   awww thats a bummer  you shoulda ...</td>\n",
              "      <td>positive</td>\n",
              "    </tr>\n",
              "    <tr>\n",
              "      <th>1</th>\n",
              "      <td>0</td>\n",
              "      <td>1467810672</td>\n",
              "      <td>Mon Apr 06 22:19:49 PDT 2009</td>\n",
              "      <td>NO_QUERY</td>\n",
              "      <td>scotthamilton</td>\n",
              "      <td>is upset that he can't update his Facebook by ...</td>\n",
              "      <td>is upset that he cant update his facebook by t...</td>\n",
              "      <td>neutral</td>\n",
              "    </tr>\n",
              "    <tr>\n",
              "      <th>2</th>\n",
              "      <td>0</td>\n",
              "      <td>1467810917</td>\n",
              "      <td>Mon Apr 06 22:19:53 PDT 2009</td>\n",
              "      <td>NO_QUERY</td>\n",
              "      <td>mattycus</td>\n",
              "      <td>@Kenichan I dived many times for the ball. Man...</td>\n",
              "      <td>kenichan i dived many times for the ball manag...</td>\n",
              "      <td>positive</td>\n",
              "    </tr>\n",
              "    <tr>\n",
              "      <th>3</th>\n",
              "      <td>0</td>\n",
              "      <td>1467811184</td>\n",
              "      <td>Mon Apr 06 22:19:57 PDT 2009</td>\n",
              "      <td>NO_QUERY</td>\n",
              "      <td>ElleCTF</td>\n",
              "      <td>my whole body feels itchy and like its on fire</td>\n",
              "      <td>my whole body feels itchy and like its on fire</td>\n",
              "      <td>positive</td>\n",
              "    </tr>\n",
              "    <tr>\n",
              "      <th>4</th>\n",
              "      <td>0</td>\n",
              "      <td>1467811193</td>\n",
              "      <td>Mon Apr 06 22:19:57 PDT 2009</td>\n",
              "      <td>NO_QUERY</td>\n",
              "      <td>Karoli</td>\n",
              "      <td>@nationwideclass no, it's not behaving at all....</td>\n",
              "      <td>nationwideclass no its not behaving at all im ...</td>\n",
              "      <td>negative</td>\n",
              "    </tr>\n",
              "    <tr>\n",
              "      <th>5</th>\n",
              "      <td>0</td>\n",
              "      <td>1467811372</td>\n",
              "      <td>Mon Apr 06 22:20:00 PDT 2009</td>\n",
              "      <td>NO_QUERY</td>\n",
              "      <td>joy_wolf</td>\n",
              "      <td>@Kwesidei not the whole crew</td>\n",
              "      <td>kwesidei not the whole crew</td>\n",
              "      <td>positive</td>\n",
              "    </tr>\n",
              "    <tr>\n",
              "      <th>6</th>\n",
              "      <td>0</td>\n",
              "      <td>1467811592</td>\n",
              "      <td>Mon Apr 06 22:20:03 PDT 2009</td>\n",
              "      <td>NO_QUERY</td>\n",
              "      <td>mybirch</td>\n",
              "      <td>Need a hug</td>\n",
              "      <td>need a hug</td>\n",
              "      <td>neutral</td>\n",
              "    </tr>\n",
              "    <tr>\n",
              "      <th>7</th>\n",
              "      <td>0</td>\n",
              "      <td>1467811594</td>\n",
              "      <td>Mon Apr 06 22:20:03 PDT 2009</td>\n",
              "      <td>NO_QUERY</td>\n",
              "      <td>coZZ</td>\n",
              "      <td>@LOLTrish hey  long time no see! Yes.. Rains a...</td>\n",
              "      <td>loltrish hey  long time no see yes rains a bit...</td>\n",
              "      <td>positive</td>\n",
              "    </tr>\n",
              "    <tr>\n",
              "      <th>8</th>\n",
              "      <td>0</td>\n",
              "      <td>1467811795</td>\n",
              "      <td>Mon Apr 06 22:20:05 PDT 2009</td>\n",
              "      <td>NO_QUERY</td>\n",
              "      <td>2Hood4Hollywood</td>\n",
              "      <td>@Tatiana_K nope they didn't have it</td>\n",
              "      <td>tatianak nope they didnt have it</td>\n",
              "      <td>neutral</td>\n",
              "    </tr>\n",
              "    <tr>\n",
              "      <th>9</th>\n",
              "      <td>0</td>\n",
              "      <td>1467812025</td>\n",
              "      <td>Mon Apr 06 22:20:09 PDT 2009</td>\n",
              "      <td>NO_QUERY</td>\n",
              "      <td>mimismo</td>\n",
              "      <td>@twittera que me muera ?</td>\n",
              "      <td>twittera que me muera</td>\n",
              "      <td>neutral</td>\n",
              "    </tr>\n",
              "  </tbody>\n",
              "</table>\n",
              "</div>"
            ],
            "text/plain": [
              "   target  ...  sentiment\n",
              "0       0  ...   positive\n",
              "1       0  ...    neutral\n",
              "2       0  ...   positive\n",
              "3       0  ...   positive\n",
              "4       0  ...   negative\n",
              "5       0  ...   positive\n",
              "6       0  ...    neutral\n",
              "7       0  ...   positive\n",
              "8       0  ...    neutral\n",
              "9       0  ...    neutral\n",
              "\n",
              "[10 rows x 8 columns]"
            ]
          },
          "metadata": {
            "tags": []
          },
          "execution_count": 55
        }
      ]
    },
    {
      "cell_type": "markdown",
      "metadata": {
        "id": "ulwokZtgDexv"
      },
      "source": [
        "# Training Model\n",
        "\n",
        "We use logistic regression to train our model. "
      ]
    },
    {
      "cell_type": "code",
      "metadata": {
        "colab": {
          "base_uri": "https://localhost:8080/"
        },
        "id": "h1C_snpyS79w",
        "outputId": "18e99b38-bfe4-4caf-8ca2-47fd3c89aa30"
      },
      "source": [
        "from sklearn.model_selection import train_test_split\n",
        "\n",
        "independent_var=df.cleaned_content\n",
        "dependent_var = df.sentiment\n",
        "\n",
        "IV_train,IV_test,DV_train,DV_test = train_test_split(independent_var, dependent_var, test_size=0.2, random_state=225)\n",
        "\n",
        "print(\"IV_train:\",len(IV_train))\n",
        "print(\"IV_test:\",len(IV_test))\n",
        "print(\"DV_train:\",len(DV_train))\n",
        "print(\"DV_test:\",len(DV_test))"
      ],
      "execution_count": 56,
      "outputs": [
        {
          "output_type": "stream",
          "text": [
            "IV_train: 1280000\n",
            "IV_test: 320000\n",
            "DV_train: 1280000\n",
            "DV_test: 320000\n"
          ],
          "name": "stdout"
        }
      ]
    },
    {
      "cell_type": "code",
      "metadata": {
        "id": "oeP3e5P2TCbl"
      },
      "source": [
        "from sklearn.feature_extraction.text import TfidfVectorizer\n",
        "from sklearn.linear_model import LogisticRegression\n",
        "\n",
        "tve = TfidfVectorizer()\n",
        "clf = LogisticRegression(solver=\"saga\")\n",
        "\n",
        "from sklearn.pipeline import Pipeline"
      ],
      "execution_count": 57,
      "outputs": []
    },
    {
      "cell_type": "code",
      "metadata": {
        "colab": {
          "base_uri": "https://localhost:8080/"
        },
        "id": "qHWnADf5TF7-",
        "outputId": "a7f0f8c2-02b2-4480-ce29-a35057ba98dd"
      },
      "source": [
        "model = Pipeline([('vectorizer',tve),('classifier',clf)])\n",
        "model.fit(IV_train, DV_train)\n",
        "\n",
        "from sklearn.metrics import confusion_matrix\n",
        "\n",
        "prediction = model.predict(IV_test)\n",
        "\n",
        "confusion_matrix(prediction,DV_test)"
      ],
      "execution_count": 58,
      "outputs": [
        {
          "output_type": "execute_result",
          "data": {
            "text/plain": [
              "array([[ 47771,   5015,    927],\n",
              "       [  6028, 133339,   5762],\n",
              "       [  1659,   5834, 113665]])"
            ]
          },
          "metadata": {
            "tags": []
          },
          "execution_count": 58
        }
      ]
    },
    {
      "cell_type": "markdown",
      "metadata": {
        "id": "DmpgsD4THa_V"
      },
      "source": [
        "Testing the Model's accuracy. "
      ]
    },
    {
      "cell_type": "code",
      "metadata": {
        "colab": {
          "base_uri": "https://localhost:8080/"
        },
        "id": "LDAdC1VrTI4H",
        "outputId": "d3aae25b-03cc-42b0-fc0f-d6a7d9cae2b6"
      },
      "source": [
        "from sklearn.metrics import accuracy_score, precision_score, recall_score\n",
        "\n",
        "print(\"Accuracy: \",accuracy_score(prediction, DV_test))\n",
        "print(\"Precision: \",precision_score(prediction, DV_test,average='weighted'))\n",
        "print(\"Recall: \",recall_score(prediction, DV_test,average='weighted'))"
      ],
      "execution_count": 59,
      "outputs": [
        {
          "output_type": "stream",
          "text": [
            "Accuracy:  0.921171875\n",
            "Precision:  0.921566831732693\n",
            "Recall:  0.921171875\n"
          ],
          "name": "stdout"
        }
      ]
    },
    {
      "cell_type": "markdown",
      "metadata": {
        "id": "oxeH86Z4Hqhf"
      },
      "source": [
        "# **Using the model for sentiment-analysis**"
      ]
    },
    {
      "cell_type": "code",
      "metadata": {
        "colab": {
          "base_uri": "https://localhost:8080/"
        },
        "id": "otsIdZD3UBj7",
        "outputId": "0f02a6e2-e7ef-42a4-e0dd-e5c68432c81b"
      },
      "source": [
        "example=[\"I cannot begin to explain my disappointment and frustration with OLA. I have multiple times tried to book a ride that seem to be cheapish then for it to take at least 5mins for someone to accept. Most of the times I lose patience and click cancel ride then I still get charged $10-$17 without even getting a ride. Ola is terrible and a scam. NEVER USE OLA\"]\n",
        "result = model.predict(example)\n",
        "\n",
        "print(result)"
      ],
      "execution_count": 60,
      "outputs": [
        {
          "output_type": "stream",
          "text": [
            "['negative']\n"
          ],
          "name": "stdout"
        }
      ]
    },
    {
      "cell_type": "code",
      "metadata": {
        "colab": {
          "base_uri": "https://localhost:8080/"
        },
        "id": "dUPa7Nd0UF9w",
        "outputId": "5f6aa314-c30f-47a0-d14e-55b19c51b7fb"
      },
      "source": [
        "example=[\"Ola's service is very useless, I had booked for the first time but on reaching my place, his payment doubled and tried to call no answer was received from the front.\"]\n",
        "result = model.predict(example)\n",
        "\n",
        "print(result)"
      ],
      "execution_count": 61,
      "outputs": [
        {
          "output_type": "stream",
          "text": [
            "['positive']\n"
          ],
          "name": "stdout"
        }
      ]
    },
    {
      "cell_type": "code",
      "metadata": {
        "colab": {
          "base_uri": "https://localhost:8080/"
        },
        "id": "M2jag7OoUX9d",
        "outputId": "4a0fca49-ab2c-4463-f78c-62c649cae0bc"
      },
      "source": [
        "example=[\"I took a 2 hour outstation drop ride starting at around 545 am. The extra charges were as under: Additional Time Fare* (for trip exceeding one hour), 1 hour x ₹100/hour = ₹100 Night Time Allowance: ₹200 x 1 night = ₹200 Driver Allowance: ₹250 x 1 day = 250.So I am charged night time time allowance + day time allowance + an extra hour for a 2-hour drive?? All this in addition to 18 Rs/km for 95km!! Why do I feel like I am being totally overcharged??\"]\n",
        "result = model.predict(example)\n",
        "\n",
        "print(result)"
      ],
      "execution_count": 62,
      "outputs": [
        {
          "output_type": "stream",
          "text": [
            "['neutral']\n"
          ],
          "name": "stdout"
        }
      ]
    }
  ]
}